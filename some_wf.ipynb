{
 "cells": [
  {
   "cell_type": "code",
   "execution_count": 1,
   "metadata": {},
   "outputs": [
    {
     "name": "stderr",
     "output_type": "stream",
     "text": [
      "/home/supreet/projects/gemini_hands_on/.conda/lib/python3.11/site-packages/tqdm/auto.py:21: TqdmWarning: IProgress not found. Please update jupyter and ipywidgets. See https://ipywidgets.readthedocs.io/en/stable/user_install.html\n",
      "  from .autonotebook import tqdm as notebook_tqdm\n"
     ]
    }
   ],
   "source": [
    "from dotenv import load_dotenv\n",
    "import os\n",
    "import google.generativeai as genai"
   ]
  },
  {
   "cell_type": "code",
   "execution_count": 2,
   "metadata": {},
   "outputs": [
    {
     "data": {
      "text/plain": [
       "True"
      ]
     },
     "execution_count": 2,
     "metadata": {},
     "output_type": "execute_result"
    }
   ],
   "source": [
    "load_dotenv()"
   ]
  },
  {
   "cell_type": "code",
   "execution_count": 121,
   "metadata": {},
   "outputs": [],
   "source": [
    "from typing_extensions import TypedDict\n",
    "\n",
    "class SubQuery(TypedDict):\n",
    "        query: str\n",
    "        status: str\n",
    "        reference: str\n",
    "        attempts: int\n",
    "        result: dict\n",
    "        \n",
    "class AggregatedResults(TypedDict):\n",
    "        summary: str\n",
    "        references: str\n",
    "\n",
    "class State(TypedDict):\n",
    "        original_query: str\n",
    "        subqueries: list[SubQuery]\n",
    "        aggregated_results: AggregatedResults\n",
    "        output: str"
   ]
  },
  {
   "cell_type": "code",
   "execution_count": 77,
   "metadata": {},
   "outputs": [],
   "source": [
    "from langchain_google_genai import ChatGoogleGenerativeAI\n",
    "llm = ChatGoogleGenerativeAI(model=\"gemini-1.5-flash-latest\")\n"
   ]
  },
  {
   "cell_type": "code",
   "execution_count": 78,
   "metadata": {},
   "outputs": [],
   "source": [
    "import re\n",
    "from langchain_core.prompts import ChatPromptTemplate"
   ]
  },
  {
   "cell_type": "code",
   "execution_count": 79,
   "metadata": {},
   "outputs": [],
   "source": [
    "QUERY_RECTIFY_TEMPLATE= \"\"\"\n",
    "        You are an assistant specialized in rewriting and correcting the input queries by user.\n",
    "        You review the query for spelling, grammar and reconstruct it, ensuring it is correct and the original message is preserved.\n",
    "        However, you let the query remain unchanged if nothing is to be corrected.\n",
    "\n",
    "        User Query: \"{query}\"\n",
    "        \"\"\"\n",
    "\n",
    "rectify_prompt = ChatPromptTemplate.from_template(QUERY_RECTIFY_TEMPLATE)\n",
    "\n",
    "def rectify_query(state: State)-> State:\n",
    "    out = llm.invoke(rectify_prompt.format(query=state[\"original_query\"]))\n",
    "    original_query = out.content\n",
    "    return {\"original_query\": original_query}"
   ]
  },
  {
   "cell_type": "code",
   "execution_count": 80,
   "metadata": {},
   "outputs": [],
   "source": [
    "\n",
    "QUERY_PARSING_TEMPLATE= \"\"\"\n",
    "        You are an assistant specialized in breaking user queries into smaller, logical subqueries.\n",
    "        Decompose the following query into distinct, manageable subqueries:\n",
    "\n",
    "        User Query: \"{query}\"\n",
    "\n",
    "        Provide the subqueries as a numbered list, one per line.\n",
    "        Example input: What is X and how does it affect Y?\n",
    "        Example output:\n",
    "        1. What is X?\n",
    "        2. How does X affect Y?\"\"\"\n",
    "        \n",
    "\n",
    "parsing_prompt = ChatPromptTemplate.from_template(QUERY_PARSING_TEMPLATE)\n",
    "\n",
    "def parse_query(state: State)-> State:\n",
    "    out = llm.invoke(parsing_prompt.format(query=state[\"original_query\"]))\n",
    "    subqueries = []\n",
    "    for subquery in out.content.split(\"\\n\"):\n",
    "            if subquery.strip():\n",
    "                    s = SubQuery()\n",
    "                    s[\"query\"]=re.sub(r\"^\\d+\\.\\s+\", \"\", subquery)\n",
    "                    s[\"attempts\"]=0\n",
    "                    s[\"status\"]=\"pending\"\n",
    "                    subqueries.append(s)\n",
    "    return {\"subqueries\": subqueries}"
   ]
  },
  {
   "cell_type": "code",
   "execution_count": null,
   "metadata": {},
   "outputs": [],
   "source": [
    "from duckduckgo_search import DDGS\n",
    "from bs4 import BeautifulSoup\n",
    "import requests\n",
    "\n",
    "\n",
    "SUMMARIZE_TEMPLATE = \"\"\"\n",
    "You are an AI assistant tasked with summarizing lengthy articles.\n",
    "Summarize the following article content in a concise and clear way:\n",
    "\n",
    "Article Content:\n",
    "{content}\n",
    "\"\"\"\n",
    "\n",
    "summarize_prompt = ChatPromptTemplate.from_template(SUMMARIZE_TEMPLATE)\n",
    "\n",
    "def search_duckduck_go(query):\n",
    "    result = DDGS().text(\n",
    "        keywords=query,\n",
    "        region=\"wt-wt\",\n",
    "        safesearch=\"off\",\n",
    "        timelimit=\"7d\",\n",
    "        max_results=10\n",
    "    )\n",
    "    \n",
    "    return result\n",
    "\n",
    "def extract_content(url: str):\n",
    "    response=requests.get(url, timeout=10)\n",
    "    if response.status_code!=200:\n",
    "        print(f\"❌ Failed to fetch {url}, status code: {response.status_code}\")\n",
    "        return \"\"\n",
    "\n",
    "    soup = BeautifulSoup(response.content, 'html.parser')\n",
    "    \n",
    "    for script in soup([\"script\", \"style\", \"footer\", \"nav\", \"aside\"]):\n",
    "            script.extract()\n",
    "            \n",
    "    text = soup.get_text(separator='\\n')\n",
    "    text = re.sub(r'\\n+', '\\n', text).strip()\n",
    "    \n",
    "    return text[:5000] \n",
    "\n",
    "def retrieve_content(state: State)-> State:\n",
    "    for subquery in state[\"subqueries\"]:\n",
    "        if subquery.get(\"status\") == \"completed\":\n",
    "            continue\n",
    "        subquery[\"status\"] = \"in_progress\"\n",
    "        subquery[\"attempts\"] += 1\n",
    "        \n",
    "        try:\n",
    "            print(f\"🔍 Searching for subquery: '{subquery['query']}' (Attempt {subquery['attempts']})\")\n",
    "            search_results = search_duckduck_go(subquery['query'])\n",
    "            \n",
    "            result = dict()\n",
    "            for search in search_results:\n",
    "                if \"content\" not in result:\n",
    "                    if \"content\" not in result:\n",
    "                        result[\"content\"] = extract_content(search[\"href\"])\n",
    "                    if result.get(\"content\"):\n",
    "                        out = llm.invoke(summarize_prompt.format(content=result[\"content\"]))\n",
    "                        result[\"summary\"] = out.content\n",
    "                        result[\"reference\"] = search[\"href\"]\n",
    "                        break\n",
    "                    else:\n",
    "                        result[\"summary\"] = \"Content extraction failed.\"\n",
    "            \n",
    "            subquery[\"result\"] = result\n",
    "            subquery[\"status\"] = \"completed\"\n",
    "            \n",
    "        except Exception as e:\n",
    "            subquery[\"status\"] = \"failed\"\n",
    "            print(f\"❌ Failed to retrieve results for subquery: '{subquery['query']}' | Error: {e}\")\n",
    "        return state"
   ]
  },
  {
   "cell_type": "code",
   "execution_count": 119,
   "metadata": {},
   "outputs": [],
   "source": [
    "AGGREGATE_TEMPLATE = \"\"\"\n",
    "You are an AI assistant tasked with aggregating and summarizing multiple content pieces into a single, concise, and coherent summary.\n",
    "Ensure that the summary maintains clarity and relevance.\n",
    "\n",
    "Individual Summaries:\n",
    "{summaries}\n",
    "\n",
    "Generate a final cohesive summary:\n",
    "\"\"\"\n",
    "\n",
    "aggregate_prompt = ChatPromptTemplate.from_template(AGGREGATE_TEMPLATE)\n",
    "\n",
    "def aggregate_results(state: State)-> State:\n",
    "    summaries = []\n",
    "    references = []\n",
    "    result = AggregatedResults()\n",
    "    \n",
    "    for subquery in state[\"subqueries\"]:\n",
    "        if subquery[\"status\"] == \"completed\" and \"result\" in subquery:\n",
    "            summary = subquery[\"result\"].get(\"summary\", \"\")\n",
    "            reference = subquery[\"result\"].get(\"reference\", \"\")\n",
    "            \n",
    "            if summary:\n",
    "                summaries.append(f\"- {summary}\")\n",
    "            if reference:\n",
    "                references.append(reference)\n",
    "    \n",
    "    try:\n",
    "        if summaries:\n",
    "            combined_summaries = \"\\n\".join(summaries)\n",
    "            out = llm.invoke(aggregate_prompt.format(summaries=combined_summaries))\n",
    "            result[\"summary\"] = out.content\n",
    "        else:\n",
    "            result[\"summary\"] = \"No valid summaries were generated from the subqueries.\"\n",
    "        \n",
    "        result[\"references\"] = \";\".join(references)\n",
    "    \n",
    "    except Exception as e:\n",
    "        state[\"final_summary\"] = f\"❌ Failed to generate final summary: {e}\"\n",
    "        print(f\"❌ Error during final summarization: {e}\")\n",
    "    \n",
    "    return {\"aggregated_results\": result}"
   ]
  },
  {
   "cell_type": "code",
   "execution_count": 122,
   "metadata": {},
   "outputs": [],
   "source": [
    "FINAL_OUTPUT_TEMPLATE = \"\"\"\n",
    "You are an expert AI assistant tasked with presenting a final, polished answer based on aggregated summaries from multiple reliable sources.\n",
    "\n",
    "### Original Query:  \n",
    "\"{query}\"\n",
    "\n",
    "### Aggregated Summaries:  \n",
    "{aggregated_summaries}\n",
    "\n",
    "### Task:  \n",
    "1. Craft a **clear, concise, and informative response** directly addressing the original query.  \n",
    "2. Ensure the response is **well-structured**, **coherent**, and captures the **key insights** from the aggregated summaries.  \n",
    "3. Provide a **list of references** for further reading, formatted as hyperlinks.\n",
    "\n",
    "### Format:  \n",
    "**Answer:**  \n",
    "[Your response here]\n",
    "\n",
    "**References:**  \n",
    "1. [Reference 1](Link 1)  \n",
    "2. [Reference 2](Link 2)  \n",
    "3. [Reference 3](Link 3)\n",
    "\"\"\"\n",
    "\n",
    "final_output_prompt = ChatPromptTemplate.from_template(FINAL_OUTPUT_TEMPLATE)\n",
    "\n",
    "def generate_final_output(state: State) -> State:\n",
    "    output=\"\"\n",
    "    try:\n",
    "        out = llm.invoke(final_output_prompt.format(\n",
    "            query=state[\"original_query\"],\n",
    "            aggregated_summaries=state[\"aggregated_results\"]\n",
    "        ))\n",
    "        \n",
    "        output = out.content\n",
    "    \n",
    "    except Exception as e:\n",
    "        state[\"final_output\"] = f\"❌ Failed to generate final output: {e}\"\n",
    "        print(f\"❌ Error during final output generation: {e}\")\n",
    "    \n",
    "    return {\"output\": output}\n"
   ]
  },
  {
   "cell_type": "code",
   "execution_count": 124,
   "metadata": {},
   "outputs": [],
   "source": [
    "from langgraph.graph import StateGraph, START, END\n",
    "\n",
    "graph_builder = StateGraph(State)\n",
    "graph_builder.add_node(\"rectify\", rectify_query)\n",
    "graph_builder.add_node(\"parse\", parse_query)\n",
    "graph_builder.add_node(\"retrieve\", retrieve_content)\n",
    "graph_builder.add_node(\"aggregate\", aggregate_results)\n",
    "graph_builder.add_node(\"final_output\", generate_final_output)\n",
    "\n",
    "graph_builder.add_edge(START, \"rectify\")\n",
    "graph_builder.add_edge(\"rectify\", \"parse\")\n",
    "graph_builder.add_edge(\"parse\", \"retrieve\")\n",
    "graph_builder.add_edge(\"retrieve\", \"aggregate\")\n",
    "graph_builder.add_edge(\"aggregate\", \"final_output\")\n",
    "\n",
    "graph = graph_builder.compile()"
   ]
  },
  {
   "cell_type": "code",
   "execution_count": 125,
   "metadata": {},
   "outputs": [
    {
     "name": "stdout",
     "output_type": "stream",
     "text": [
      "🔍 Searching for subquery: 'What are the latest breakthroughs in AI?' (Attempt 1)\n",
      "🔍 Searching for subquery: 'What are the ethical implications of the latest AI breakthroughs?' (Attempt 1)\n",
      "{'original_query': 'What are the latest breakthroughs in AI, and what are their ethical implications?\\n', 'subqueries': [{'query': 'What are the latest breakthroughs in AI?', 'attempts': 1, 'status': 'completed', 'result': {'content': '6 Game-Changing AI Breakthroughs That Defined 2024\\nSubscribe To Newsletters\\nBETA\\nTHIS IS A BETA EXPERIENCE. OPT-OUT\\xa0\\nHERE\\nMore From Forbes\\nDec 20, 2024,\\n11:43pm EST\\nSpace-Age Mobile Is Here To Connect Billions And Unlock Global Markets\\nDec 20, 2024,\\n01:47am EST\\nThe Future Of Energy: How Shell Is Harnessing AI To Transform The Energy Sector\\nDec 19, 2024,\\n08:30am EST\\nRetailers: How To Enhance User Confidence In Your Digital Experiences\\nDec 19, 2024,\\n02:39am EST\\n6 Revolutionary Tech Developments That Defined 2024\\nDec 18, 2024,\\n08:30am EST\\nProtect Your Customers From Phishing This Holiday Season And Beyond\\nDec 18, 2024,\\n04:42am EST\\nIEEE Trips To Singapore, Japan, New Jersey, San Francisco And Italy\\nDec 18, 2024,\\n01:30am EST\\nHow GE HealthCare Is Using AI To Revolutionize Every Aspect Of Patient Care\\nDec 17, 2024,\\n04:33pm EST\\nMy One Big Tech-Fueled Prediction For 2025: Big Data Is Back\\nDec 17, 2024,\\n10:45am EST\\nAI-Powered Business Intelligence —A New Era Of Insights\\nEdit Story\\nForbes\\nInnovation\\nEnterprise Tech\\n6 Game-Changing AI Breakthroughs That Defined 2024\\nBernard Marr\\nContributor\\nOpinions expressed by Forbes Contributors are their own.\\nFollowing\\nDec 16, 2024,\\n02:09am EST\\nShare to Facebook\\nShare to Twitter\\nShare to Linkedin\\nFrom Apple’s entry into generative AI to unprecedented achievements in robotics and art, 2024 marked \\n... [+]\\n a transformative year in artificial intelligence innovation.\\nAdobe Stock\\nWithout a doubt, 2024 will go down as a year in which we saw much groundbreaking progress and many giant leaps forward in the development of artificial intelligence.\\nWith companies racing to build AI features and functionalities into products, we’re increasingly getting used to automation in the workplace, and AI is becoming integrated across all aspects of our everyday lives.\\nSo, with the AI revolution well underway, here’s my overview of the year’s AI highlights – including the game-changing breakthroughs and discoveries setting the stage for an even more momentous 2025.\\nThe Continuing Evolution And Advancement Of Generative AI Chatbots\\nWhen ChatGPT emerged two years ago (was that all it was?), it was clear that what we were seeing was just the beginning. Since then, we’ve seen rival chatbots emerging from established tech leaders, including Google and Meta, fellow AI startups such as Anthropic, and many \\nopen-source\\n collaborations and projects. New features like memory and multimodal capabilities have broken new ground in terms of what we expect from AI. And the most exciting thing is we’re still clearly only just getting started.\\nApple Enters The Generative AI Arena With Apple Intelligence\\nIf there’s one thing that Apple does really well, it’s taking a great idea and launching it into the mainstream. This is why the \\n2024 arrival of Apple Intelligence\\n could well go down as a watershed moment in consumer adoption of AI. By integrating OpenAI-powered generative language and graphics functionality across its product ecosystem, it created a typically refined, Apple-shaped gateway into the world of day-to-day AI for millions of non-techy people.\\nMORE FROM\\nFORBES ADVISOR\\nBest High-Yield Savings Accounts Of 2024\\nBy\\nKevin Payne\\nContributor\\nBest 5% Interest Savings Accounts of 2024\\nBy\\nCassidy Horton\\nContributor\\nHead Of Google AI Wins The Nobel Prize For Chemistry\\nDemis Hassabis has said that the most important effect of the AI revolution is that it will act as an accelerator in many other fields of science. In 2024, he demonstrated this when he was made \\njoint winner\\n of the Nobel Prize for chemistry, thanks to the AI model AlphaFold 2 being integral to the task of creating new proteins. By predicting the complex amino acid sequences needed, it is thought that this breakthrough will lead to new developments in medicines, vaccines and material sciences.\\nThe EU AI Act – AI Legislation Begins To Take Shape\\nIn August 2024, the EU’s Artificial Intelligence Act \\ncame into force\\n, marking a significant step by an international regulator to implement a framework and safeguards around AI. Rather than conferring rights on individuals (as is the case with the union’s data protection regulation, GDPR), it aims to impose controls on providers of AI services. This is done by categorizing applications according to their potential for causing harm, regulating some while outright banning those classed as “unacceptable.” This highest-risk category includes applications that enable facial recognition technology to be used in public places or for social scoring.\\nOptimus Breaks New Ground For Humanoid Robots\\nTesla \\ndemonstrated\\n the latest iteration of its humanoid robot, codenamed Optimus after the Transformers character, in front of a stunned audience at its We Robot event in October. Despite controversy over how much of its operation was automated and how much was simply remote-controlled via telepresence, experts agreed that it showed impressive progress toward the development of bipedal robots that could eventually assist with ', 'summary': \"2024 saw significant AI breakthroughs.  Generative AI chatbots continued to evolve, with improved features like memory and multimodal capabilities. Apple's entry into the field with Apple Intelligence broadened consumer access to AI.  Demis Hassabis, head of Google AI, won a Nobel Prize for Chemistry due to AlphaFold 2's contribution to protein creation. The EU implemented the AI Act, regulating AI applications based on risk levels. Finally, Tesla showcased advancements in humanoid robotics with its Optimus robot, although the level of autonomy remains debated.\\n\", 'reference': 'https://www.forbes.com/sites/bernardmarr/2024/12/16/6-game-changing-ai-breakthroughs-that-defined-2024/'}}, {'query': 'What are the ethical implications of the latest AI breakthroughs?', 'attempts': 1, 'status': 'completed', 'result': {'content': 'Navigating the Ethical Landscape of AI (2024)\\n\\t\\tSkip to content\\n \\n \\n \\n \\n \\nMain Menu\\n \\n \\nNavigating Ethical Challenges in AI Advancements\\nBy \\n \\n\\t\\t\\t\\tAndrew DeLanzo\\t\\t\\t\\n\\t\\t / Updated November 30, 2023\\nIn the quickly developing field of artificial intelligence (AI), moral issues have taken center stage. With each AI breakthrough, questions surrounding \\ndata privacy and security\\n, bias and fairness, accountability and responsibility, job displacement, and the \\neconomic impact of AI\\n innovations gain prominence. As autonomous systems become more integrated into our daily lives, the need for a robust ethical framework to guide their use becomes increasingly apparent. This article “Navigating Ethical Challenges in AI Advancements” delves into the multifaceted landscape of ethical challenges in AI advancements, exploring how data privacy and security concerns raise questions about the protection of sensitive information in an interconnected world. Examining the critical issues of bias and fairness in AI algorithms and the potential consequences of perpetuating inequalities.\\nThe topic of accountability and responsibility is also covered, with an emphasis on who should be held accountable for AI decisions and their outcomes. The paper also carefully examines the economic effects of AI, focusing on the potential and worries associated with employment displacement. Lastly, it considers how important it is to hold autonomy.\\nTable of Contents\\nData Privacy and Security\\nBias and Fairness\\nAccountability and Responsibility\\nJob Displacement and Economic Impact\\nAutonomous Systems and Accountability\\nConclusion\\nData Privacy and Security\\nThe \\nsecurity and privacy of data\\n are one of the\\xa0most important ethical issues facing AI as it develops quickly. The growing integration of AI technology into numerous businesses and our daily lives has raised worries about the security of AI systems and the preservation of sensitive data. Before we head into the key aspects of data and privacy and security attacks to look out for let’s discuss \\nVectra AI\\n, a company that works to \\nhelp defend businesses from these attacks\\n. Vectra AI offers AI-driven threat detection and response solutions for cloud, data center, and enterprise networks. It focuses on identifying hidden \\ncyberattack\\n behaviors.\\nOne of the key aspects we must look into when it comes to data piracy and security is data collection and storage. Massive volumes of data are necessary for AI to work well. Personal data, behavioral patterns, and other sensitive information fall under this category. The way that this data is gathered and kept presents an ethical conundrum. Ensuring informed consent is crucial, and organizations need to be open and honest about the kinds of information they collect and how they plan to use it. Strong security measures are also necessary for data storage to keep it safe from hacks and unwanted access.\\nAlong with data storage and collection, \\ntransparency\\n is another ethical challenge to keep an eye on with data privacy, as transparency is crucial in maintaining ethical data practices. AI algorithms need to make sense to humans; they shouldn’t function like a mysterious black box. This implies that any biases built into AI systems, as well as the reasoning used to interpret data, should be clear and understandable. People will be able to voice concerns about potential biases or ethical issues and gain a better understanding of the foundation for AI-driven judgments by doing this.\\nLastly, we will examine the aspect of \\ndata minimization\\n related to security and privacy. According to this theory, information should only be gathered that is absolutely required to achieve the goal. Businesses must avoid gathering too much or superfluous data in order to lower the possibility of abuse and privacy violations. Reducing the amount of data also helps to lessen the chance of data breaches.\\nBias and Fairness\\nData privacy and security in the context of AI are closely intertwined with the critical ethical issues of \\nbias and fairness\\n. Ensuring data privacy and security while addressing bias and fairness concerns is pivotal for the responsible deployment of AI technologies. Bias and fairness ethical concerns how AI systems or applications treat different groups of people, especially those who are marginalized or vulnerable. Bias and fairness aim to ensure that AI systems or applications do not produce or reinforce unfair or harmful outcomes, such as misclassification, exclusion, or oppression.\\nFor example:\\nData privacy and security can help i\\nmprove the quality and diversity of data used by AI systems or applications\\n, which can reduce the errors or biases in their outputs.\\nAlgorithmic bias, which is often referred to as algorithmic discrimination or AI prejudice, is the term used to describe the unjust and systematic discrimination that \\nmachine learning\\n and AI algorithms may produce. It occurs when these algorithms, which are meant to make judgments or predictions base', 'summary': 'This article, \"Navigating Ethical Challenges in AI Advancements,\" explores the ethical implications of rapidly advancing AI.  Key concerns include data privacy and security (addressing data collection, storage, transparency, and minimization), bias and fairness in algorithms leading to potential discrimination, accountability for AI decisions and their consequences, the economic impact of AI-driven job displacement, and the ethical considerations surrounding autonomous systems.  The article highlights the need for a robust ethical framework to guide the development and deployment of AI, ensuring responsible innovation and mitigating potential harms.\\n', 'reference': 'https://www.aitimejournal.com/navigating-ethical-challenges-in-ai-advancements/46636/'}}], 'aggregated_results': {'summary': \"2024 was a landmark year for artificial intelligence, marked by significant technological leaps and growing ethical concerns.  Generative AI chatbots became more sophisticated, incorporating features like memory and multimodal capabilities, and saw increased accessibility with Apple's entry into the market.  Scientific recognition came with Demis Hassabis' Nobel Prize in Chemistry for AlphaFold 2's protein creation advancements.  However, rapid progress spurred the EU to implement the AI Act, regulating AI based on risk level, and highlighted ethical challenges.  These include data privacy, algorithmic bias, accountability for AI decisions, job displacement, and the ethical implications of autonomous systems like Tesla's Optimus robot, whose level of autonomy remains a point of discussion.  The year underscored the urgent need for a robust ethical framework to guide responsible AI development and mitigate potential harms.\\n\", 'references': 'https://www.forbes.com/sites/bernardmarr/2024/12/16/6-game-changing-ai-breakthroughs-that-defined-2024/;https://www.aitimejournal.com/navigating-ethical-challenges-in-ai-advancements/46636/'}, 'output': \"**Answer:**\\n\\n2024 witnessed remarkable advancements in artificial intelligence, most notably in generative AI chatbots which achieved greater sophistication through enhanced memory and multimodal capabilities, boosted further by increased accessibility with major tech companies like Apple entering the market.  Scientifically, AlphaFold 2's protein creation breakthroughs earned a Nobel Prize in Chemistry, showcasing AI's impact on fundamental scientific research.\\n\\nHowever, this rapid progress necessitates a critical examination of its ethical implications.  The EU's implementation of the AI Act, categorizing AI systems by risk level and implementing corresponding regulations, underscores the growing concern.  Key ethical challenges include:  the potential for algorithmic bias and data privacy violations; the lack of clear accountability for AI-driven decisions; the displacement of human workers; and the uncertain ethical landscape surrounding autonomous systems like the Tesla Optimus robot, particularly concerning its level of autonomy and potential for unintended consequences.  The year served as a stark reminder of the urgent need for a comprehensive ethical framework to guide AI development and mitigate potential harms.\\n\\n\\n**References:**\\n1. [6 Game-Changing AI Breakthroughs That Defined 2024](https://www.forbes.com/sites/bernardmarr/2024/12/16/6-game-changing-ai-breakthroughs-that-defined-2024/)\\n2. [Navigating Ethical Challenges in AI Advancements](https://www.aitimejournal.com/navigating-ethical-challenges-in-ai-advancements/46636/)\\n\\n\"}\n"
     ]
    }
   ],
   "source": [
    "state = graph.invoke({\"original_query\": \"What are the laest breakthroughs in AI and what are there ethical implications?\"})\n",
    "\n",
    "print(state)"
   ]
  },
  {
   "cell_type": "code",
   "execution_count": 126,
   "metadata": {},
   "outputs": [
    {
     "data": {
      "text/plain": [
       "{'original_query': 'What are the latest breakthroughs in AI, and what are their ethical implications?\\n',\n",
       " 'subqueries': [{'query': 'What are the latest breakthroughs in AI?',\n",
       "   'attempts': 1,\n",
       "   'status': 'completed',\n",
       "   'result': {'content': '6 Game-Changing AI Breakthroughs That Defined 2024\\nSubscribe To Newsletters\\nBETA\\nTHIS IS A BETA EXPERIENCE. OPT-OUT\\xa0\\nHERE\\nMore From Forbes\\nDec 20, 2024,\\n11:43pm EST\\nSpace-Age Mobile Is Here To Connect Billions And Unlock Global Markets\\nDec 20, 2024,\\n01:47am EST\\nThe Future Of Energy: How Shell Is Harnessing AI To Transform The Energy Sector\\nDec 19, 2024,\\n08:30am EST\\nRetailers: How To Enhance User Confidence In Your Digital Experiences\\nDec 19, 2024,\\n02:39am EST\\n6 Revolutionary Tech Developments That Defined 2024\\nDec 18, 2024,\\n08:30am EST\\nProtect Your Customers From Phishing This Holiday Season And Beyond\\nDec 18, 2024,\\n04:42am EST\\nIEEE Trips To Singapore, Japan, New Jersey, San Francisco And Italy\\nDec 18, 2024,\\n01:30am EST\\nHow GE HealthCare Is Using AI To Revolutionize Every Aspect Of Patient Care\\nDec 17, 2024,\\n04:33pm EST\\nMy One Big Tech-Fueled Prediction For 2025: Big Data Is Back\\nDec 17, 2024,\\n10:45am EST\\nAI-Powered Business Intelligence —A New Era Of Insights\\nEdit Story\\nForbes\\nInnovation\\nEnterprise Tech\\n6 Game-Changing AI Breakthroughs That Defined 2024\\nBernard Marr\\nContributor\\nOpinions expressed by Forbes Contributors are their own.\\nFollowing\\nDec 16, 2024,\\n02:09am EST\\nShare to Facebook\\nShare to Twitter\\nShare to Linkedin\\nFrom Apple’s entry into generative AI to unprecedented achievements in robotics and art, 2024 marked \\n... [+]\\n a transformative year in artificial intelligence innovation.\\nAdobe Stock\\nWithout a doubt, 2024 will go down as a year in which we saw much groundbreaking progress and many giant leaps forward in the development of artificial intelligence.\\nWith companies racing to build AI features and functionalities into products, we’re increasingly getting used to automation in the workplace, and AI is becoming integrated across all aspects of our everyday lives.\\nSo, with the AI revolution well underway, here’s my overview of the year’s AI highlights – including the game-changing breakthroughs and discoveries setting the stage for an even more momentous 2025.\\nThe Continuing Evolution And Advancement Of Generative AI Chatbots\\nWhen ChatGPT emerged two years ago (was that all it was?), it was clear that what we were seeing was just the beginning. Since then, we’ve seen rival chatbots emerging from established tech leaders, including Google and Meta, fellow AI startups such as Anthropic, and many \\nopen-source\\n collaborations and projects. New features like memory and multimodal capabilities have broken new ground in terms of what we expect from AI. And the most exciting thing is we’re still clearly only just getting started.\\nApple Enters The Generative AI Arena With Apple Intelligence\\nIf there’s one thing that Apple does really well, it’s taking a great idea and launching it into the mainstream. This is why the \\n2024 arrival of Apple Intelligence\\n could well go down as a watershed moment in consumer adoption of AI. By integrating OpenAI-powered generative language and graphics functionality across its product ecosystem, it created a typically refined, Apple-shaped gateway into the world of day-to-day AI for millions of non-techy people.\\nMORE FROM\\nFORBES ADVISOR\\nBest High-Yield Savings Accounts Of 2024\\nBy\\nKevin Payne\\nContributor\\nBest 5% Interest Savings Accounts of 2024\\nBy\\nCassidy Horton\\nContributor\\nHead Of Google AI Wins The Nobel Prize For Chemistry\\nDemis Hassabis has said that the most important effect of the AI revolution is that it will act as an accelerator in many other fields of science. In 2024, he demonstrated this when he was made \\njoint winner\\n of the Nobel Prize for chemistry, thanks to the AI model AlphaFold 2 being integral to the task of creating new proteins. By predicting the complex amino acid sequences needed, it is thought that this breakthrough will lead to new developments in medicines, vaccines and material sciences.\\nThe EU AI Act – AI Legislation Begins To Take Shape\\nIn August 2024, the EU’s Artificial Intelligence Act \\ncame into force\\n, marking a significant step by an international regulator to implement a framework and safeguards around AI. Rather than conferring rights on individuals (as is the case with the union’s data protection regulation, GDPR), it aims to impose controls on providers of AI services. This is done by categorizing applications according to their potential for causing harm, regulating some while outright banning those classed as “unacceptable.” This highest-risk category includes applications that enable facial recognition technology to be used in public places or for social scoring.\\nOptimus Breaks New Ground For Humanoid Robots\\nTesla \\ndemonstrated\\n the latest iteration of its humanoid robot, codenamed Optimus after the Transformers character, in front of a stunned audience at its We Robot event in October. Despite controversy over how much of its operation was automated and how much was simply remote-controlled via telepresence, experts agreed that it showed impressive progress toward the development of bipedal robots that could eventually assist with ',\n",
       "    'summary': \"2024 saw significant AI breakthroughs.  Generative AI chatbots continued to evolve, with improved features like memory and multimodal capabilities. Apple's entry into the field with Apple Intelligence broadened consumer access to AI.  Demis Hassabis, head of Google AI, won a Nobel Prize for Chemistry due to AlphaFold 2's contribution to protein creation. The EU implemented the AI Act, regulating AI applications based on risk levels. Finally, Tesla showcased advancements in humanoid robotics with its Optimus robot, although the level of autonomy remains debated.\\n\",\n",
       "    'reference': 'https://www.forbes.com/sites/bernardmarr/2024/12/16/6-game-changing-ai-breakthroughs-that-defined-2024/'}},\n",
       "  {'query': 'What are the ethical implications of the latest AI breakthroughs?',\n",
       "   'attempts': 1,\n",
       "   'status': 'completed',\n",
       "   'result': {'content': 'Navigating the Ethical Landscape of AI (2024)\\n\\t\\tSkip to content\\n \\n \\n \\n \\n \\nMain Menu\\n \\n \\nNavigating Ethical Challenges in AI Advancements\\nBy \\n \\n\\t\\t\\t\\tAndrew DeLanzo\\t\\t\\t\\n\\t\\t / Updated November 30, 2023\\nIn the quickly developing field of artificial intelligence (AI), moral issues have taken center stage. With each AI breakthrough, questions surrounding \\ndata privacy and security\\n, bias and fairness, accountability and responsibility, job displacement, and the \\neconomic impact of AI\\n innovations gain prominence. As autonomous systems become more integrated into our daily lives, the need for a robust ethical framework to guide their use becomes increasingly apparent. This article “Navigating Ethical Challenges in AI Advancements” delves into the multifaceted landscape of ethical challenges in AI advancements, exploring how data privacy and security concerns raise questions about the protection of sensitive information in an interconnected world. Examining the critical issues of bias and fairness in AI algorithms and the potential consequences of perpetuating inequalities.\\nThe topic of accountability and responsibility is also covered, with an emphasis on who should be held accountable for AI decisions and their outcomes. The paper also carefully examines the economic effects of AI, focusing on the potential and worries associated with employment displacement. Lastly, it considers how important it is to hold autonomy.\\nTable of Contents\\nData Privacy and Security\\nBias and Fairness\\nAccountability and Responsibility\\nJob Displacement and Economic Impact\\nAutonomous Systems and Accountability\\nConclusion\\nData Privacy and Security\\nThe \\nsecurity and privacy of data\\n are one of the\\xa0most important ethical issues facing AI as it develops quickly. The growing integration of AI technology into numerous businesses and our daily lives has raised worries about the security of AI systems and the preservation of sensitive data. Before we head into the key aspects of data and privacy and security attacks to look out for let’s discuss \\nVectra AI\\n, a company that works to \\nhelp defend businesses from these attacks\\n. Vectra AI offers AI-driven threat detection and response solutions for cloud, data center, and enterprise networks. It focuses on identifying hidden \\ncyberattack\\n behaviors.\\nOne of the key aspects we must look into when it comes to data piracy and security is data collection and storage. Massive volumes of data are necessary for AI to work well. Personal data, behavioral patterns, and other sensitive information fall under this category. The way that this data is gathered and kept presents an ethical conundrum. Ensuring informed consent is crucial, and organizations need to be open and honest about the kinds of information they collect and how they plan to use it. Strong security measures are also necessary for data storage to keep it safe from hacks and unwanted access.\\nAlong with data storage and collection, \\ntransparency\\n is another ethical challenge to keep an eye on with data privacy, as transparency is crucial in maintaining ethical data practices. AI algorithms need to make sense to humans; they shouldn’t function like a mysterious black box. This implies that any biases built into AI systems, as well as the reasoning used to interpret data, should be clear and understandable. People will be able to voice concerns about potential biases or ethical issues and gain a better understanding of the foundation for AI-driven judgments by doing this.\\nLastly, we will examine the aspect of \\ndata minimization\\n related to security and privacy. According to this theory, information should only be gathered that is absolutely required to achieve the goal. Businesses must avoid gathering too much or superfluous data in order to lower the possibility of abuse and privacy violations. Reducing the amount of data also helps to lessen the chance of data breaches.\\nBias and Fairness\\nData privacy and security in the context of AI are closely intertwined with the critical ethical issues of \\nbias and fairness\\n. Ensuring data privacy and security while addressing bias and fairness concerns is pivotal for the responsible deployment of AI technologies. Bias and fairness ethical concerns how AI systems or applications treat different groups of people, especially those who are marginalized or vulnerable. Bias and fairness aim to ensure that AI systems or applications do not produce or reinforce unfair or harmful outcomes, such as misclassification, exclusion, or oppression.\\nFor example:\\nData privacy and security can help i\\nmprove the quality and diversity of data used by AI systems or applications\\n, which can reduce the errors or biases in their outputs.\\nAlgorithmic bias, which is often referred to as algorithmic discrimination or AI prejudice, is the term used to describe the unjust and systematic discrimination that \\nmachine learning\\n and AI algorithms may produce. It occurs when these algorithms, which are meant to make judgments or predictions base',\n",
       "    'summary': 'This article, \"Navigating Ethical Challenges in AI Advancements,\" explores the ethical implications of rapidly advancing AI.  Key concerns include data privacy and security (addressing data collection, storage, transparency, and minimization), bias and fairness in algorithms leading to potential discrimination, accountability for AI decisions and their consequences, the economic impact of AI-driven job displacement, and the ethical considerations surrounding autonomous systems.  The article highlights the need for a robust ethical framework to guide the development and deployment of AI, ensuring responsible innovation and mitigating potential harms.\\n',\n",
       "    'reference': 'https://www.aitimejournal.com/navigating-ethical-challenges-in-ai-advancements/46636/'}}],\n",
       " 'aggregated_results': {'summary': \"2024 was a landmark year for artificial intelligence, marked by significant technological leaps and growing ethical concerns.  Generative AI chatbots became more sophisticated, incorporating features like memory and multimodal capabilities, and saw increased accessibility with Apple's entry into the market.  Scientific recognition came with Demis Hassabis' Nobel Prize in Chemistry for AlphaFold 2's protein creation advancements.  However, rapid progress spurred the EU to implement the AI Act, regulating AI based on risk level, and highlighted ethical challenges.  These include data privacy, algorithmic bias, accountability for AI decisions, job displacement, and the ethical implications of autonomous systems like Tesla's Optimus robot, whose level of autonomy remains a point of discussion.  The year underscored the urgent need for a robust ethical framework to guide responsible AI development and mitigate potential harms.\\n\",\n",
       "  'references': 'https://www.forbes.com/sites/bernardmarr/2024/12/16/6-game-changing-ai-breakthroughs-that-defined-2024/;https://www.aitimejournal.com/navigating-ethical-challenges-in-ai-advancements/46636/'},\n",
       " 'output': \"**Answer:**\\n\\n2024 witnessed remarkable advancements in artificial intelligence, most notably in generative AI chatbots which achieved greater sophistication through enhanced memory and multimodal capabilities, boosted further by increased accessibility with major tech companies like Apple entering the market.  Scientifically, AlphaFold 2's protein creation breakthroughs earned a Nobel Prize in Chemistry, showcasing AI's impact on fundamental scientific research.\\n\\nHowever, this rapid progress necessitates a critical examination of its ethical implications.  The EU's implementation of the AI Act, categorizing AI systems by risk level and implementing corresponding regulations, underscores the growing concern.  Key ethical challenges include:  the potential for algorithmic bias and data privacy violations; the lack of clear accountability for AI-driven decisions; the displacement of human workers; and the uncertain ethical landscape surrounding autonomous systems like the Tesla Optimus robot, particularly concerning its level of autonomy and potential for unintended consequences.  The year served as a stark reminder of the urgent need for a comprehensive ethical framework to guide AI development and mitigate potential harms.\\n\\n\\n**References:**\\n1. [6 Game-Changing AI Breakthroughs That Defined 2024](https://www.forbes.com/sites/bernardmarr/2024/12/16/6-game-changing-ai-breakthroughs-that-defined-2024/)\\n2. [Navigating Ethical Challenges in AI Advancements](https://www.aitimejournal.com/navigating-ethical-challenges-in-ai-advancements/46636/)\\n\\n\"}"
      ]
     },
     "execution_count": 126,
     "metadata": {},
     "output_type": "execute_result"
    }
   ],
   "source": [
    "state"
   ]
  },
  {
   "cell_type": "code",
   "execution_count": 72,
   "metadata": {},
   "outputs": [
    {
     "name": "stdout",
     "output_type": "stream",
     "text": [
      "Requirement already satisfied: duckduckgo_search in ./.conda/lib/python3.11/site-packages (7.0.1)\n",
      "Requirement already satisfied: pandas in ./.conda/lib/python3.11/site-packages (2.2.3)\n",
      "Collecting bs4\n",
      "  Downloading bs4-0.0.2-py2.py3-none-any.whl.metadata (411 bytes)\n",
      "Requirement already satisfied: click>=8.1.7 in ./.conda/lib/python3.11/site-packages (from duckduckgo_search) (8.1.7)\n",
      "Requirement already satisfied: primp>=0.9.1 in ./.conda/lib/python3.11/site-packages (from duckduckgo_search) (0.9.1)\n",
      "Requirement already satisfied: lxml>=5.3.0 in ./.conda/lib/python3.11/site-packages (from duckduckgo_search) (5.3.0)\n",
      "Requirement already satisfied: numpy>=1.23.2 in ./.conda/lib/python3.11/site-packages (from pandas) (1.26.4)\n",
      "Requirement already satisfied: python-dateutil>=2.8.2 in ./.conda/lib/python3.11/site-packages (from pandas) (2.9.0.post0)\n",
      "Requirement already satisfied: pytz>=2020.1 in ./.conda/lib/python3.11/site-packages (from pandas) (2024.2)\n",
      "Requirement already satisfied: tzdata>=2022.7 in ./.conda/lib/python3.11/site-packages (from pandas) (2024.2)\n",
      "Requirement already satisfied: beautifulsoup4 in ./.conda/lib/python3.11/site-packages (from bs4) (4.12.3)\n",
      "Requirement already satisfied: six>=1.5 in ./.conda/lib/python3.11/site-packages (from python-dateutil>=2.8.2->pandas) (1.16.0)\n",
      "Requirement already satisfied: soupsieve>1.2 in ./.conda/lib/python3.11/site-packages (from beautifulsoup4->bs4) (2.6)\n",
      "Downloading bs4-0.0.2-py2.py3-none-any.whl (1.2 kB)\n",
      "Installing collected packages: bs4\n",
      "Successfully installed bs4-0.0.2\n",
      "Note: you may need to restart the kernel to use updated packages.\n"
     ]
    }
   ],
   "source": [
    "%pip install duckduckgo_search pandas bs4"
   ]
  },
  {
   "cell_type": "code",
   "execution_count": 70,
   "metadata": {},
   "outputs": [],
   "source": [
    "from duckduckgo_search import DDGS\n",
    "import pandas as pd\n",
    "\n",
    "def search_duckduck_go(query):\n",
    "    result = DDGS().text(\n",
    "        keywords=query,\n",
    "        region=\"wt-wt\",\n",
    "        safesearch=\"off\",\n",
    "        timelimit=\"7d\",\n",
    "        max_results=10\n",
    "    )\n",
    "    \n",
    "    return pd.DataFrame(result)"
   ]
  },
  {
   "cell_type": "code",
   "execution_count": null,
   "metadata": {},
   "outputs": [
    {
     "data": {
      "text/html": [
       "<div>\n",
       "<style scoped>\n",
       "    .dataframe tbody tr th:only-of-type {\n",
       "        vertical-align: middle;\n",
       "    }\n",
       "\n",
       "    .dataframe tbody tr th {\n",
       "        vertical-align: top;\n",
       "    }\n",
       "\n",
       "    .dataframe thead th {\n",
       "        text-align: right;\n",
       "    }\n",
       "</style>\n",
       "<table border=\"1\" class=\"dataframe\">\n",
       "  <thead>\n",
       "    <tr style=\"text-align: right;\">\n",
       "      <th></th>\n",
       "      <th>title</th>\n",
       "      <th>href</th>\n",
       "      <th>body</th>\n",
       "    </tr>\n",
       "  </thead>\n",
       "  <tbody>\n",
       "    <tr>\n",
       "      <th>0</th>\n",
       "      <td>Trailer Park Boys - Wikipedia</td>\n",
       "      <td>https://en.wikipedia.org/wiki/Trailer_Park_Boys</td>\n",
       "      <td>Trailer Park Boys is a Canadian mockumentary t...</td>\n",
       "    </tr>\n",
       "    <tr>\n",
       "      <th>1</th>\n",
       "      <td>Trailer Park Boys (TV Series 2001-2018) - IMDb</td>\n",
       "      <td>https://www.imdb.com/title/tt0290988/</td>\n",
       "      <td>Trailer Park Boys: Created by Mike Clattenburg...</td>\n",
       "    </tr>\n",
       "    <tr>\n",
       "      <th>2</th>\n",
       "      <td>SwearNet.com is Home of the Trailer Park Boys!</td>\n",
       "      <td>https://www.swearnet.com/</td>\n",
       "      <td>SWEARNET.COM is the streaming comedy network f...</td>\n",
       "    </tr>\n",
       "    <tr>\n",
       "      <th>3</th>\n",
       "      <td>Standing on the Shoulders of Kitties Trailer S...</td>\n",
       "      <td>https://www.yahoo.com/entertainment/standing-s...</td>\n",
       "      <td>Blue Fox Entertainment has shared the Standing...</td>\n",
       "    </tr>\n",
       "    <tr>\n",
       "      <th>4</th>\n",
       "      <td>Trailer Park Boys</td>\n",
       "      <td>https://www.netflix.com/title/70153385</td>\n",
       "      <td>The boys cause a panic in the trailer park whe...</td>\n",
       "    </tr>\n",
       "    <tr>\n",
       "      <th>5</th>\n",
       "      <td>Trailer Park Boys - YouTube</td>\n",
       "      <td>https://www.youtube.com/user/tpbSwearNet</td>\n",
       "      <td>The official Trailer Park Boys YouTube channel...</td>\n",
       "    </tr>\n",
       "    <tr>\n",
       "      <th>6</th>\n",
       "      <td>Trailer Park Boys - SwearNet</td>\n",
       "      <td>https://www.swearnet.com/shows/trailer-park-boys</td>\n",
       "      <td>Watch the legendary Canadian comedy about the ...</td>\n",
       "    </tr>\n",
       "    <tr>\n",
       "      <th>7</th>\n",
       "      <td>Trailer Park Boys (TV Series 2001-2018) - IMDb</td>\n",
       "      <td>https://www.imdb.com/title/tt0290988/fullcredits/</td>\n",
       "      <td>Trailer Park Boys (TV Series 2001-2018) cast a...</td>\n",
       "    </tr>\n",
       "    <tr>\n",
       "      <th>8</th>\n",
       "      <td>Trailer Park Boys - streaming tv show online -...</td>\n",
       "      <td>https://www.justwatch.com/us/tv-show/trailer-p...</td>\n",
       "      <td>Trailer Park Boys - watch online: streaming, b...</td>\n",
       "    </tr>\n",
       "    <tr>\n",
       "      <th>9</th>\n",
       "      <td>List of Trailer Park Boys episodes - Wikipedia</td>\n",
       "      <td>https://en.wikipedia.org/wiki/List_of_Trailer_...</td>\n",
       "      <td>Trailer Park Boys is a Canadian mockumentary t...</td>\n",
       "    </tr>\n",
       "  </tbody>\n",
       "</table>\n",
       "</div>"
      ],
      "text/plain": [
       "                                               title  \\\n",
       "0                      Trailer Park Boys - Wikipedia   \n",
       "1     Trailer Park Boys (TV Series 2001-2018) - IMDb   \n",
       "2     SwearNet.com is Home of the Trailer Park Boys!   \n",
       "3  Standing on the Shoulders of Kitties Trailer S...   \n",
       "4                                  Trailer Park Boys   \n",
       "5                        Trailer Park Boys - YouTube   \n",
       "6                       Trailer Park Boys - SwearNet   \n",
       "7     Trailer Park Boys (TV Series 2001-2018) - IMDb   \n",
       "8  Trailer Park Boys - streaming tv show online -...   \n",
       "9     List of Trailer Park Boys episodes - Wikipedia   \n",
       "\n",
       "                                                href  \\\n",
       "0    https://en.wikipedia.org/wiki/Trailer_Park_Boys   \n",
       "1              https://www.imdb.com/title/tt0290988/   \n",
       "2                          https://www.swearnet.com/   \n",
       "3  https://www.yahoo.com/entertainment/standing-s...   \n",
       "4             https://www.netflix.com/title/70153385   \n",
       "5           https://www.youtube.com/user/tpbSwearNet   \n",
       "6   https://www.swearnet.com/shows/trailer-park-boys   \n",
       "7  https://www.imdb.com/title/tt0290988/fullcredits/   \n",
       "8  https://www.justwatch.com/us/tv-show/trailer-p...   \n",
       "9  https://en.wikipedia.org/wiki/List_of_Trailer_...   \n",
       "\n",
       "                                                body  \n",
       "0  Trailer Park Boys is a Canadian mockumentary t...  \n",
       "1  Trailer Park Boys: Created by Mike Clattenburg...  \n",
       "2  SWEARNET.COM is the streaming comedy network f...  \n",
       "3  Blue Fox Entertainment has shared the Standing...  \n",
       "4  The boys cause a panic in the trailer park whe...  \n",
       "5  The official Trailer Park Boys YouTube channel...  \n",
       "6  Watch the legendary Canadian comedy about the ...  \n",
       "7  Trailer Park Boys (TV Series 2001-2018) cast a...  \n",
       "8  Trailer Park Boys - watch online: streaming, b...  \n",
       "9  Trailer Park Boys is a Canadian mockumentary t...  "
      ]
     },
     "execution_count": 71,
     "metadata": {},
     "output_type": "execute_result"
    }
   ],
   "source": []
  },
  {
   "cell_type": "code",
   "execution_count": null,
   "metadata": {},
   "outputs": [],
   "source": [
    "from bs4 import BeautifulSoup\n",
    "import requests\n",
    "\n",
    "def extract_content(url: str):\n",
    "    response=requests.get(url, timeout=10)\n",
    "    if response.status_code!=200:\n",
    "        print(f\"❌ Failed to fetch {url}, status code: {response.status_code}\")\n",
    "        return \"\"\n",
    "\n",
    "    soup = BeautifulSoup(response.content, 'html.parser')\n",
    "    \n",
    "    for script in soup([\"script\", \"style\", \"footer\", \"nav\", \"aside\"]):\n",
    "            script.extract()\n",
    "            \n",
    "    text = soup.get_text(separator='\\n')\n",
    "    text = re.sub(r'\\n+', '\\n', text).strip()\n",
    "    \n",
    "    return text[:5000] "
   ]
  },
  {
   "cell_type": "code",
   "execution_count": 74,
   "metadata": {},
   "outputs": [
    {
     "data": {
      "text/plain": [
       "'Trailer Park Boys - Wikipedia\\nJump to content\\nSearch\\nSearch\\nTrailer Park Boys\\n20 languages\\nAlemannisch\\nDansk\\nDeitsch\\nDeutsch\\nΕλληνικά\\nEspañol\\nFrançais\\n한국어\\nItaliano\\nMagyar\\nNederlands\\n日本語\\nNorsk bokmål\\nPolski\\nPortuguês\\nРусский\\nSimple English\\nSrpskohrvatski / српскохрватски\\nSuomi\\nSvenska\\nEdit links\\nFrom Wikipedia, the free encyclopedia\\nCanadian mockumentary television series\\nThis article \\nneeds additional citations for \\nverification\\n.\\n Please help \\nimprove this article\\n by \\nadding citations to reliable sources\\n. Unsourced material may be challenged and removed.\\nFind sources:\\n\\xa0\\n\"Trailer Park Boys\"\\n\\xa0–\\xa0\\nnews\\n\\xa0\\n·\\n \\nnewspapers\\n\\xa0\\n·\\n \\nbooks\\n\\xa0\\n·\\n \\nscholar\\n\\xa0\\n·\\n \\nJSTOR\\n \\n(\\nJune 2024\\n)\\n (\\nLearn how and when to remove this message\\n)\\nTrailer Park Boys\\nGenre\\nMockumentary\\nSitcom\\nBlack comedy\\nCrime comedy\\nCreated by\\nMike Clattenburg\\nStarring\\nJohn Paul Tremblay\\nRobb Wells\\nMike Smith\\nJohn Dunsworth\\nPatrick Roach\\nLucy DeCoutere\\nSarah E. Dunsworth\\nCory Bowles\\nMichael Jackson\\nBarrie Dunn\\nJonathan Torrens\\nJacob Rolfe\\nShelley Thompson\\nTyrone Parsons\\nGarry James\\nSam Tarasco\\nJeanna Harrison\\nGeorge Green\\nBernard Robichaud\\nJim Swansburg\\nRichard Collins\\nLeigh MacInnis\\nMarguerite McNeil\\nElliot Page\\n[\\na\\n]\\nArdon Bess\\nSandi Ross\\nVoices of\\nMike Smith\\nTheme music composer\\nBlain Morris\\nComposers\\nBlain Morris\\nMarc Mysterio\\nCountry of origin\\nCanada\\nOriginal language\\nEnglish\\nNo.\\n of seasons\\n12\\nNo.\\n of episodes\\n105 (+ 10 specials) \\n(\\nlist of episodes\\n)\\nProduction\\nExecutive producers\\nGary Howsam\\nErica Benson\\nNorm Bolen\\nRachel Fulford\\nLaura Michalchyshyn\\nProducers\\nMike Clattenburg\\nBarrie Dunn\\nMichael Volpe\\nJonathan Walker\\nMike Smith\\nJohn Paul Tremblay\\nRobb Wells\\nCinematography\\nAdamm Liley\\nDavid Albiston\\nMike Clattenburg\\nEditors\\nJeremy Harty\\nIrving Thatcher\\nSarah Byrne\\nCaley MacLennan\\nMike Clattenburg\\nCamera setup\\nMultiple-camera\\nFound footage\\nScreenlife\\nVery fast/shaky camera\\n[\\nb\\n]\\nRunning time\\napprox. 23 minutes (seasons 1–7)\\n23–32 minutes (seasons 8–12)\\n30–47 minutes (specials)\\nProduction companies\\nTrailer Park Productions (seasons 1–7)\\nTopsail Entertainment (seasons 1–7)\\nShowcase Television\\n (seasons 1–7)\\nSunnyvale Productions (seasons 8–12)\\nSwearNet Pictures (seasons 8–12)\\nOriginal release\\nNetwork\\nShowcase\\nRelease\\nApril 22, 2001\\n\\xa0(\\n2001-04-22\\n)\\n\\xa0–\\nJune 10, 2007\\n\\xa0(\\n2007-06-10\\n)\\nNetwork\\nNetflix\\nRelease\\nSeptember 5, 2014\\n\\xa0(\\n2014-09-05\\n)\\n\\xa0–\\nMarch 30, 2018\\n\\xa0(\\n2018-03-30\\n)\\nTrailer Park Boys\\n is a Canadian \\nmockumentary\\n television \\nsitcom\\n created by \\nMike Clattenburg\\n that began airing in 2001 as a continuation of his 1999 film bearing the same name. The show follows the misadventures of a group of \\ntrailer park\\n residents, including two lead characters in and out of \\nprison\\n, living in the fictional \"Sunnyvale Trailer Park\" in \\nDartmouth\\n, \\nNova Scotia\\n. The series premiered on \\nShowcase\\n on April 20, 2001, and originally ran for seven seasons before concluding with a one-hour special on December 7, 2008.\\n[\\n1\\n]\\n The series spawned four films: \\nThe Movie\\n, released on October 6, 2006; \\nCountdown to Liquor Day\\n, released on September 25, 2009; \\nDon\\'t Legalize It\\n, released on April 18, 2014; and \\nStanding on the Shoulders of Kitties: The Bubbles and the Shitrockers Story\\n was released in December 2024.\\n[\\n2\\n]\\nIn 2013, \\nRobb Wells\\n, \\nJohn Paul Tremblay\\n, and \\nMike Smith\\n, the actors who respectively portrayed \\nRicky\\n, \\nJulian\\n, and \\nBubbles\\n, purchased the rights to the show from the original producers and created their own \\ninternet streaming\\n network, SwearNet. Starting in March 2014, SwearNet co-produced new episodes of the show with the American streaming service \\nNetflix\\n, and the eighth season premiered on September 5, 2014. Several specials and mini-series were made in the years that followed. An \\nanimated spinoff series\\n premiered on March 31, 2019.\\n[\\n3\\n]\\n In October 2019, filming began on a spinoff series, \\nTrailer Park Boys: Jail\\n, which premiered on SwearNet on January 1, 2021.\\n[\\n4\\n]\\nHistory\\n[\\nedit\\n]\\nIn 1998, director \\nMike Clattenburg\\n wrote and directed a \\nshort film\\n titled \\nOne Last Shot\\n,\\n which was shot in black-and-white.\\n[\\n5\\n]\\n The film followed the exploits of two friends, Rob (\\nRobb Wells\\n) and Gary William or GW (\\nJohn Paul Tremblay\\n), although it is not based in the same setting as \\nTrailer Park Boys\\n. It was the first time Robb, John Paul and John Dunsworth worked together. In the 1999 \\nfeature film\\n \\nTrailer Park Boys\\n,\\n  the character Julian states to the camera that he wanted his life to be documented after receiving a telephone psychic\\'s prediction that he would die soon. He hoped that the film would deter others from the life of crime he had chosen.\\nThe feature film was shown at the \\nAtlantic Film Festival\\n in 1999, and it caught the attention of producer \\nBarrie Dunn\\n, who saw the potential for a television series. Clattenburg and Dunn, along with Wells and Tremblay, worked on a proposal for a 13-episode season of the show and traveled to \\nToronto\\n to pitch the show to \\nThe Comedy Network\\n. After being turned down, they sudde'"
      ]
     },
     "execution_count": 74,
     "metadata": {},
     "output_type": "execute_result"
    }
   ],
   "source": [
    "extract_content(\"https://en.wikipedia.org/wiki/Trailer_Park_Boys\")"
   ]
  }
 ],
 "metadata": {
  "kernelspec": {
   "display_name": "Python 3",
   "language": "python",
   "name": "python3"
  },
  "language_info": {
   "codemirror_mode": {
    "name": "ipython",
    "version": 3
   },
   "file_extension": ".py",
   "mimetype": "text/x-python",
   "name": "python",
   "nbconvert_exporter": "python",
   "pygments_lexer": "ipython3",
   "version": "3.11.10"
  }
 },
 "nbformat": 4,
 "nbformat_minor": 2
}
