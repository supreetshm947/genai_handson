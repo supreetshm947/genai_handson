{
 "cells": [
  {
   "cell_type": "code",
   "execution_count": 1,
   "metadata": {},
   "outputs": [
    {
     "name": "stderr",
     "output_type": "stream",
     "text": [
      "/home/supreet/projects/gemini_hands_on/.conda/lib/python3.11/site-packages/tqdm/auto.py:21: TqdmWarning: IProgress not found. Please update jupyter and ipywidgets. See https://ipywidgets.readthedocs.io/en/stable/user_install.html\n",
      "  from .autonotebook import tqdm as notebook_tqdm\n"
     ]
    }
   ],
   "source": [
    "from dotenv import load_dotenv\n",
    "import os\n",
    "import google.generativeai as genai"
   ]
  },
  {
   "cell_type": "code",
   "execution_count": 2,
   "metadata": {},
   "outputs": [
    {
     "data": {
      "text/plain": [
       "True"
      ]
     },
     "execution_count": 2,
     "metadata": {},
     "output_type": "execute_result"
    }
   ],
   "source": [
    "load_dotenv()"
   ]
  },
  {
   "cell_type": "code",
   "execution_count": 18,
   "metadata": {},
   "outputs": [],
   "source": [
    "from typing_extensions import TypedDict\n",
    "\n",
    "class State(TypedDict):\n",
    "        query: str\n",
    "        subqueries: list[str]\n",
    "        # aggregated_results: list[str]\n",
    "        # summary: str"
   ]
  },
  {
   "cell_type": "code",
   "execution_count": 42,
   "metadata": {},
   "outputs": [],
   "source": [
    "from langchain_core.prompts import ChatPromptTemplate\n",
    "\n",
    "QUERY_PARSING_TEMPLATE= \"\"\"\n",
    "        You are an assistant specialized in breaking user queries into smaller, logical subqueries.\n",
    "        Decompose the following query into distinct, manageable subqueries:\n",
    "\n",
    "        User Query: \"{query}\"\n",
    "\n",
    "        Provide the subqueries as a numbered list, one per line.\n",
    "        Example input: What is X and how does it affect Y?\n",
    "        Example output:\n",
    "        1. What is X?\n",
    "        2. How does X affect Y?\"\"\"\n",
    "        \n",
    "\n",
    "parsing_prompt = ChatPromptTemplate.from_template(QUERY_PARSING_TEMPLATE)"
   ]
  },
  {
   "cell_type": "code",
   "execution_count": 43,
   "metadata": {},
   "outputs": [],
   "source": [
    "from langchain_google_genai import ChatGoogleGenerativeAI\n",
    "llm = ChatGoogleGenerativeAI(model=\"gemini-1.5-flash-latest\")\n"
   ]
  },
  {
   "cell_type": "code",
   "execution_count": 44,
   "metadata": {},
   "outputs": [],
   "source": [
    "import re\n",
    "\n",
    "def parse_query(state: State)-> State:\n",
    "    out = llm.invoke(parsing_prompt.format(query=state[\"query\"]))\n",
    "    subqueries = [re.sub(r\"^\\d+\\.\\s+\", \"\", s) for s in out.content.split(\"\\n\") if s.strip()]\n",
    "    return {\"subqueries\": subqueries}"
   ]
  },
  {
   "cell_type": "code",
   "execution_count": 45,
   "metadata": {},
   "outputs": [],
   "source": [
    "from langgraph.graph import StateGraph, START, END\n",
    "\n",
    "graph_builder = StateGraph(State)\n",
    "graph_builder.add_node(\"parse\", parse_query)\n",
    "graph_builder.add_edge(START, \"parse\")\n",
    "\n",
    "graph = graph_builder.compile()"
   ]
  },
  {
   "cell_type": "code",
   "execution_count": 46,
   "metadata": {},
   "outputs": [
    {
     "name": "stdout",
     "output_type": "stream",
     "text": [
      "{'query': 'What are the latest breakthroughs in AI and what are there ethical implications?', 'subqueries': ['What are the latest breakthroughs in AI?', 'What are the ethical implications of the latest breakthroughs in AI?']}\n"
     ]
    }
   ],
   "source": [
    "state = graph.invoke({\"query\": \"What are the latest breakthroughs in AI and what are there ethical implications?\"})\n",
    "\n",
    "print(state)"
   ]
  }
 ],
 "metadata": {
  "kernelspec": {
   "display_name": "Python 3",
   "language": "python",
   "name": "python3"
  },
  "language_info": {
   "codemirror_mode": {
    "name": "ipython",
    "version": 3
   },
   "file_extension": ".py",
   "mimetype": "text/x-python",
   "name": "python",
   "nbconvert_exporter": "python",
   "pygments_lexer": "ipython3",
   "version": "3.11.10"
  }
 },
 "nbformat": 4,
 "nbformat_minor": 2
}
