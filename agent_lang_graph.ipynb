{
 "cells": [
  {
   "cell_type": "code",
   "execution_count": 2,
   "metadata": {},
   "outputs": [
    {
     "name": "stderr",
     "output_type": "stream",
     "text": [
      "/home/supreet/projects/gemini_hands_on/.conda/lib/python3.11/site-packages/tqdm/auto.py:21: TqdmWarning: IProgress not found. Please update jupyter and ipywidgets. See https://ipywidgets.readthedocs.io/en/stable/user_install.html\n",
      "  from .autonotebook import tqdm as notebook_tqdm\n"
     ]
    }
   ],
   "source": [
    "import google.generativeai as genai\n",
    "from IPython.display import HTML, Markdown, display\n",
    "from dotenv import load_dotenv\n",
    "import os"
   ]
  },
  {
   "cell_type": "code",
   "execution_count": 3,
   "metadata": {},
   "outputs": [
    {
     "data": {
      "text/plain": [
       "True"
      ]
     },
     "execution_count": 3,
     "metadata": {},
     "output_type": "execute_result"
    }
   ],
   "source": [
    "load_dotenv()"
   ]
  },
  {
   "cell_type": "markdown",
   "metadata": {},
   "source": [
    "LangGraph applications are built around a graph structure\\\n",
    "The app will define a state schema, and an instance of that schema is propagated through the graph.\\\n",
    "Each node in the graph represents an action or step that can be taken. Nodes will make changes to the state in some way through code that you define. \\\n",
    "Each edge in the graph represents a transition between states, defining the flow of the program. "
   ]
  },
  {
   "cell_type": "markdown",
   "metadata": {},
   "source": [
    "# State\n",
    "\n",
    "Here we define a state object, ```OrderState```, that holds the conversation history, a structured order, and a flag indicating if the customer has finished placing their order.\\\n",
    "The LangGraph state object is a Python dictionary. We can provide a schema for this dictionary by defining it as a TypedDict"
   ]
  },
  {
   "cell_type": "code",
   "execution_count": 5,
   "metadata": {},
   "outputs": [],
   "source": [
    "\n",
    "\n",
    "from typing import Annotated\n",
    "from typing_extensions import TypedDict\n",
    "\n",
    "from langgraph.graph.message import add_messages\n",
    "\n",
    "class OrderState(TypedDict):\n",
    "    \"\"\"State representing the customer's order conversation.\"\"\"\n",
    "    \n",
    "    # The chat conversation. This preserves the conversation history\n",
    "    # between nodes. The `add_messages` annotation indicates to LangGraph\n",
    "    # that state is updated by appending returned messages, not replacing\n",
    "    # them.\n",
    "    messages: Annotated[list, add_messages]\n",
    "    \n",
    "    order: list[str]\n",
    "    \n",
    "    finished: bool\n",
    "    \n",
    "BARISTABOT_SYSINT = (\n",
    "    \"system\",  # 'system' indicates the message is a system instruction.\n",
    "    \"You are a BaristaBot, an interactive cafe ordering system. A human will talk to you about the \"\n",
    "    \"available products you have and you will answer any questions about menu items (and only about \"\n",
    "    \"menu items - no off-topic discussion, but you can chat about the products and their history). \"\n",
    "    \"The customer will place an order for 1 or more items from the menu, which you will structure \"\n",
    "    \"and send to the ordering system after confirming the order with the human. \"\n",
    "    \"\\n\\n\"\n",
    "    \"Add items to the customer's order with add_to_order, and reset the order with clear_order. \"\n",
    "    \"To see the contents of the order so far, call get_order (this is shown to you, not the user) \"\n",
    "    \"Always confirm_order with the user (double-check) before calling place_order. Calling confirm_order will \"\n",
    "    \"display the order items to the user and returns their response to seeing the list. Their response may contain modifications. \"\n",
    "    \"Always verify and respond with drink and modifier names from the MENU before adding them to the order. \"\n",
    "    \"If you are unsure a drink or modifier matches those on the MENU, ask a question to clarify or redirect. \"\n",
    "    \"You only have the modifiers listed on the menu. \"\n",
    "    \"Once the customer has finished ordering items, Call confirm_order to ensure it is correct then make \"\n",
    "    \"any necessary updates and then call place_order. Once place_order has returned, thank the user and \"\n",
    "    \"say goodbye!\",\n",
    ")"
   ]
  },
  {
   "cell_type": "markdown",
   "metadata": {},
   "source": [
    "# Single Turn Chatbot\n",
    "\n",
    "A chatbot node that will execute a single turn in a chat conversation using the instructions supplied.\\\n",
    "Each node in the graph operates on the state object. The state (a Python dictionary) is passed as a parameter into the node (a function) and the new state is returned. This can be restated as pseudo-code, where state = node(state)"
   ]
  },
  {
   "cell_type": "code",
   "execution_count": 21,
   "metadata": {},
   "outputs": [],
   "source": [
    "from langgraph.graph import StateGraph, START, END\n",
    "from langchain_google_genai import ChatGoogleGenerativeAI\n",
    "\n",
    "\n",
    "llm = ChatGoogleGenerativeAI(model=\"gemini-1.5-flash-latest\")\n",
    "\n",
    "def chatbot(state: OrderState)-> OrderState:\n",
    "    message_history = [BARISTABOT_SYSINT] + state[\"messages\"]\n",
    "    return {\"messages\": [llm.invoke(message_history)]}\n",
    "\n",
    "graph_builder = StateGraph(OrderState)\n",
    "\n",
    "graph_builder.add_node(\"chatbot\", chatbot)\n",
    "\n",
    "graph_builder.add_edge(START, \"chatbot\")\n",
    "\n",
    "graph = graph_builder.compile()"
   ]
  },
  {
   "cell_type": "code",
   "execution_count": 22,
   "metadata": {},
   "outputs": [
    {
     "data": {
      "image/png": "[encoded data removed]",
      "text/plain": [
       "<IPython.core.display.Image object>"
      ]
     },
     "execution_count": 22,
     "metadata": {},
     "output_type": "execute_result"
    }
   ],
   "source": [
    "from IPython.display import Image, display\n",
    "\n",
    "Image(graph.get_graph().draw_mermaid_png())"
   ]
  },
  {
   "cell_type": "code",
   "execution_count": 23,
   "metadata": {},
   "outputs": [
    {
     "name": "stdout",
     "output_type": "stream",
     "text": [
      "HumanMessage: Hello, what's happening?\n",
      "AIMessage: Hello! Welcome to BaristaBot Cafe!  What can I get for you today?  We have a wide variety of coffees, teas, and pastries. Would you like to see our menu?\n",
      "\n"
     ]
    }
   ],
   "source": [
    "user = \"Hello, what's happening?\"\n",
    "\n",
    "state = graph.invoke({\"messages\": [user]})\n",
    "\n",
    "for msg in state[\"messages\"]:\n",
    "    print(f\"{type(msg).__name__}: {msg.content}\")"
   ]
  },
  {
   "cell_type": "code",
   "execution_count": 24,
   "metadata": {},
   "outputs": [
    {
     "name": "stdout",
     "output_type": "stream",
     "text": [
      "HumanMessage: Hello, what's happening?\n",
      "AIMessage: Hello! Welcome to BaristaBot Cafe!  What can I get for you today?  We have a wide variety of coffees, teas, and pastries. Would you like to see our menu?\n",
      "\n",
      "HumanMessage: Oh Great. I would love a Coffee. What kind you got\n",
      "AIMessage: We have a selection of coffees!  We offer:\n",
      "\n",
      "* **Espresso:** A rich, concentrated shot of coffee.\n",
      "* **Americano:** Espresso diluted with hot water.\n",
      "* **Cappuccino:** Espresso with steamed milk and a thin layer of foam.\n",
      "* **Latte:** Espresso with steamed milk and a small amount of foam.\n",
      "* **Macchiato:** Espresso marked with a dollop of foamed milk.\n",
      "\n",
      "\n",
      "What kind of coffee would you like?\n",
      "\n"
     ]
    }
   ],
   "source": [
    "user_msg = \"Oh Great. I would love a Coffee. What kind you got\"\n",
    "\n",
    "state[\"messages\"].append(user_msg)\n",
    "\n",
    "state = graph.invoke(state)\n",
    "\n",
    "for msg in state[\"messages\"]:\n",
    "    print(f\"{type(msg).__name__}: {msg.content}\")"
   ]
  },
  {
   "cell_type": "markdown",
   "metadata": {},
   "source": [
    "# Adding Human Node\n",
    "\n",
    "Expanding the graph. Adding Human node, it will display the last message from the LLM to the user, and then prompt them for their next input. "
   ]
  },
  {
   "cell_type": "code",
   "execution_count": 29,
   "metadata": {},
   "outputs": [],
   "source": [
    "from langchain_core.messages.ai import AIMessage\n",
    "\n",
    "def human_node(state: OrderState)->OrderState:\n",
    "    last_msg = state['messages'][-1]\n",
    "    print(f\"Model: {last_msg.content}\")\n",
    "    \n",
    "    user_input=input(\"User:\")\n",
    "    \n",
    "    if user_input in {\"q\", \"quit\", \"exit\", \"goodbye\"}:\n",
    "        state[\"finished\"] = True\n",
    "    \n",
    "    return state | {\"messages\": [(\"user\", user_input)]}\n",
    "\n",
    "WELCOME_MSG = \"Welcome to the BaristaBot cafe. Type `q` to quit. How may I serve you today?\"\n",
    "\n",
    "def chatbot_with_welcome_message(state: OrderState)->OrderState:\n",
    "    if state[\"messages\"]:\n",
    "        new_messages = llm.invoke(BARISTABOT_SYSINT+state[\"messages\"])\n",
    "    else:\n",
    "        new_messages = AIMessage(content=WELCOME_MSG)\n",
    "        \n",
    "    return state | {\"messages\": [new_messages]}\n",
    "\n",
    "graph_builder = StateGraph(OrderState)\n",
    "\n",
    "# Add the chatbot and human nodes to the app graph.\n",
    "graph_builder.add_node(\"chatbot\", chatbot_with_welcome_message)\n",
    "graph_builder.add_node(\"human\", human_node)\n",
    "\n",
    "# Start with the chatbot again.\n",
    "graph_builder.add_edge(START, \"chatbot\")\n",
    "\n",
    "# The chatbot will always go to the human next.\n",
    "graph_builder.add_edge(\"chatbot\", \"human\");\n"
   ]
  },
  {
   "cell_type": "markdown",
   "metadata": {},
   "source": [
    "### Conditional Edge\n",
    "For now there is an edge between chatbot and human and the graph will cycle forever as there is no exit condition. We add a Conditional Edge functions take the state as input, and return a string representing the name of the node to which it will transition."
   ]
  },
  {
   "cell_type": "code",
   "execution_count": 30,
   "metadata": {},
   "outputs": [],
   "source": [
    "from typing import Literal\n",
    "\n",
    "def maybe_exit_human_node(state: OrderState)->Literal[\"chatbot\", \"__end__\"]:\n",
    "    if state.get(\"finished\", False):\n",
    "        return END\n",
    "    else:\n",
    "        return \"chatbot\""
   ]
  },
  {
   "cell_type": "code",
   "execution_count": 31,
   "metadata": {},
   "outputs": [],
   "source": [
    "graph_builder.add_conditional_edges(\"human\", maybe_exit_human_node)\n",
    "\n",
    "chat_with_human_graph = graph_builder.compile()"
   ]
  },
  {
   "cell_type": "code",
   "execution_count": 32,
   "metadata": {},
   "outputs": [
    {
     "data": {
      "image/png": "[encoded data removed]",
      "text/plain": [
       "<IPython.core.display.Image object>"
      ]
     },
     "execution_count": 32,
     "metadata": {},
     "output_type": "execute_result"
    }
   ],
   "source": [
    "Image(chat_with_human_graph.get_graph().draw_mermaid_png())"
   ]
  },
  {
   "cell_type": "code",
   "execution_count": null,
   "metadata": {},
   "outputs": [
    {
     "name": "stdout",
     "output_type": "stream",
     "text": [
      "Model: Welcome to the BaristaBot cafe. Type `q` to quit. How may I serve you today?\n"
     ]
    }
   ],
   "source": [
    "from pprint import pprint\n",
    "state = chat_with_human_graph.invoke({\"messages\": []})\n",
    "pprint(state)"
   ]
  }
 ],
 "metadata": {
  "kernelspec": {
   "display_name": "Python 3",
   "language": "python",
   "name": "python3"
  },
  "language_info": {
   "codemirror_mode": {
    "name": "ipython",
    "version": 3
   },
   "file_extension": ".py",
   "mimetype": "text/x-python",
   "name": "python",
   "nbconvert_exporter": "python",
   "pygments_lexer": "ipython3",
   "version": "3.11.10"
  }
 },
 "nbformat": 4,
 "nbformat_minor": 2
}
